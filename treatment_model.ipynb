{
 "cells": [
  {
   "cell_type": "code",
   "execution_count": 2,
   "id": "4c9c7bcf",
   "metadata": {},
   "outputs": [
    {
     "name": "stdout",
     "output_type": "stream",
     "text": [
      "\n",
      "=== Rekomendasi Pencegahan Diabetes ===\n",
      "🟢 Risiko Anda RENDAH.\n",
      "Untuk menjaga kondisi ini:\n",
      "- Pertahankan berat badan ideal.\n",
      "- Lakukan olahraga rutin minimal 150 menit per minggu.\n",
      "- Konsumsi makanan bergizi seimbang (sayur, buah, biji-bijian).\n",
      "- Hindari konsumsi berlebihan makanan manis dan berlemak.\n",
      "- Tidur cukup dan hindari stres berkepanjangan.\n",
      "- Lakukan pemeriksaan kesehatan rutin tiap tahun.\n"
     ]
    }
   ],
   "source": [
    "def rekomendasi_pencegahan(risk_level):\n",
    "    print(\"\\n=== Rekomendasi Pencegahan Diabetes ===\")\n",
    "\n",
    "    if risk_level == 0:\n",
    "        rekomendasi = (\n",
    "            \"🟢 Risiko Anda RENDAH.\\n\"\n",
    "            \"Untuk menjaga kondisi ini:\\n\"\n",
    "            \"- Pertahankan berat badan ideal.\\n\"\n",
    "            \"- Lakukan olahraga rutin minimal 150 menit per minggu.\\n\"\n",
    "            \"- Konsumsi makanan bergizi seimbang (sayur, buah, biji-bijian).\\n\"\n",
    "            \"- Hindari konsumsi berlebihan makanan manis dan berlemak.\\n\"\n",
    "            \"- Tidur cukup dan hindari stres berkepanjangan.\\n\"\n",
    "            \"- Lakukan pemeriksaan kesehatan rutin tiap tahun.\"\n",
    "        )\n",
    "\n",
    "    elif risk_level == 1:\n",
    "        rekomendasi = (\n",
    "            \"🟠 Risiko Anda SEDANG.\\n\"\n",
    "            \"Langkah-langkah pencegahan yang disarankan:\\n\"\n",
    "            \"- Kurangi konsumsi gula tambahan dan minuman manis.\\n\"\n",
    "            \"- Tingkatkan aktivitas fisik, mulai dari jalan kaki hingga latihan kekuatan ringan.\\n\"\n",
    "            \"- Pertahankan berat badan, usahakan turunkan 5-7% bila kelebihan berat badan.\\n\"\n",
    "            \"- Konsultasikan ke dokter atau ahli gizi untuk pemantauan dan panduan gizi.\\n\"\n",
    "            \"- Pantau tekanan darah dan kadar kolesterol secara berkala.\"\n",
    "        )\n",
    "\n",
    "    elif risk_level == 2:\n",
    "        rekomendasi = (\n",
    "            \"🔴 Risiko Anda TINGGI.\\n\"\n",
    "            \"Tindakan pencegahan dan penanganan lanjutan yang sangat disarankan:\\n\"\n",
    "            \"- Segera konsultasikan dengan tenaga medis untuk skrining lanjutan.\\n\"\n",
    "            \"- Lakukan cek gula darah puasa dan HbA1c.\\n\"\n",
    "            \"- Ikuti program diet rendah kalori dan rendah gula.\\n\"\n",
    "            \"- Jalani aktivitas fisik terstruktur sesuai saran medis.\\n\"\n",
    "            \"- Jika diperlukan, pertimbangkan terapi atau pengobatan preventif.\\n\"\n",
    "            \"- Jaga konsistensi gaya hidup sehat, dan libatkan dukungan keluarga.\"\n",
    "        )\n",
    "\n",
    "    else:\n",
    "        rekomendasi = \"⚠️ Input tidak valid. Masukkan hanya angka 0 (Rendah), 1 (Sedang), atau 2 (Tinggi).\"\n",
    "\n",
    "    print(rekomendasi)\n",
    "\n",
    "\n",
    "# Contoh penggunaan:\n",
    "if __name__ == \"__main__\":\n",
    "    try:\n",
    "        level = int(input(\"Masukkan tingkat risiko diabetes Anda (0 = Rendah, 1 = Sedang, 2 = Tinggi): \"))\n",
    "        rekomendasi_pencegahan(level)\n",
    "    except ValueError:\n",
    "        print(\"⚠️ Input harus berupa angka 0, 1, atau 2.\")\n"
   ]
  }
 ],
 "metadata": {
  "kernelspec": {
   "display_name": "Python 3",
   "language": "python",
   "name": "python3"
  },
  "language_info": {
   "codemirror_mode": {
    "name": "ipython",
    "version": 3
   },
   "file_extension": ".py",
   "mimetype": "text/x-python",
   "name": "python",
   "nbconvert_exporter": "python",
   "pygments_lexer": "ipython3",
   "version": "3.13.3"
  }
 },
 "nbformat": 4,
 "nbformat_minor": 5
}
